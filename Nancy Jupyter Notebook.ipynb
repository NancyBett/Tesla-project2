{
 "cells": [
  {
   "cell_type": "markdown",
   "id": "79c5fdda",
   "metadata": {},
   "source": [
    "This is my First Notebook"
   ]
  },
  {
   "cell_type": "code",
   "execution_count": 3,
   "id": "dbaf2bcb",
   "metadata": {},
   "outputs": [
    {
     "name": "stdout",
     "output_type": "stream",
     "text": [
      "701\n"
     ]
    }
   ],
   "source": [
    "#code to perfom simple calculations\n",
    "a = 1\n",
    "b = 700\n",
    "print (a+b)"
   ]
  },
  {
   "cell_type": "code",
   "execution_count": null,
   "id": "ec00e6fb",
   "metadata": {},
   "outputs": [],
   "source": []
  }
 ],
 "metadata": {
  "kernelspec": {
   "display_name": "Python 3 (ipykernel)",
   "language": "python",
   "name": "python3"
  },
  "language_info": {
   "codemirror_mode": {
    "name": "ipython",
    "version": 3
   },
   "file_extension": ".py",
   "mimetype": "text/x-python",
   "name": "python",
   "nbconvert_exporter": "python",
   "pygments_lexer": "ipython3",
   "version": "3.9.7"
  }
 },
 "nbformat": 4,
 "nbformat_minor": 5
}
